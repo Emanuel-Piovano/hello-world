{
  "nbformat": 4,
  "nbformat_minor": 0,
  "metadata": {
    "colab": {
      "name": "Copia de ejemplo_deteccion_yolo.ipynb",
      "provenance": [],
      "collapsed_sections": [],
      "include_colab_link": true
    },
    "kernelspec": {
      "name": "python3",
      "display_name": "Python 3"
    },
    "accelerator": "GPU"
  },
  "cells": [
    {
      "cell_type": "markdown",
      "metadata": {
        "id": "view-in-github",
        "colab_type": "text"
      },
      "source": [
        "<a href=\"https://colab.research.google.com/github/Emanuel-Piovano/hello-world/blob/master/Copia_de_ejemplo_deteccion_yolo.ipynb\" target=\"_parent\"><img src=\"https://colab.research.google.com/assets/colab-badge.svg\" alt=\"Open In Colab\"/></a>"
      ]
    },
    {
      "cell_type": "markdown",
      "metadata": {
        "id": "vvYzfy7HT5hF"
      },
      "source": [
        "# Práctico de detección de objetos\n",
        "El objetivo de este práctico es entrenar un detector de objetos en imágenes usando la red Yolo."
      ]
    },
    {
      "cell_type": "markdown",
      "metadata": {
        "id": "pbyoUm0DRymf"
      },
      "source": [
        "## Construcción del Dataset\n",
        "Para el entrenamiento del detector necesitamos tener imágenes del objeto de interés y el etiquetado del mismo. Este etiquetado consiste en las coordenadas de un recuadro que indiquen donde se encuentra los objetos en las imágenes.\n",
        "![alt text](https://camo.githubusercontent.com/e1e33a7ef92dfc86ab8929dd0e8e96395cbcab5c/68747470733a2f2f686162726173746f726167652e6f72672f66696c65732f3232392f6630362f3237372f32323966303632373766636334393237393334326237656466616262623437612e6a7067)\n",
        "El formato de las coordenadas normalmente depende de la librería que vamos a usar. Para el caso de Yolo, el etiquetador genera un archivo `.txt` para cada imagen en el mismo directorio con el mismo nombre. El etiquetador se llama [Yolo mark](https://github.com/AlexeyAB/Yolo_mark). Para cada objeto el archivo contiene una nueva línea con el siguiente contenido: \n",
        "\n",
        "`<object-class> <x_center> <y_center> <width> <height>`\n",
        "\n",
        "Donde: \n",
        "  * `<object-class>` - número entero que va de `0` to `(classes-1)`\n",
        "  * `<x_center> <y_center> <width> <height>` - valores flotantes **relativos** al ancho y alto de la imagen, estos van de `(0.0 to 1.0]`\n",
        "  * por ejemplo: `<x> = <absolute_x> / <image_width>` or `<height> = <absolute_height> / <image_height>`\n",
        "  * `<x_center> <y_center>` - son los centros del rectángulo (no es una de las esquinas)\n",
        "\n",
        "Cuando etiquetamos imágenes con Yolo_mark, el segundo parámetro que le pasamos es un archivo en donde se guardarán los nombres de las imágenes etiquetadas. Conservarlo porque lo usaremos más adelante para generar los archivos de entrenamiento y validación.\n",
        "\n",
        "### Tareas para construir el dataset\n",
        " 1. Buscar imágenes del objeto de interés.\n",
        " 1. Etiquetar las imágenes usando Yolo_mark.\n",
        " 1. Continúa más adelante\n"
      ]
    },
    {
      "cell_type": "markdown",
      "metadata": {
        "id": "MSuilMimhKW9"
      },
      "source": [
        "## Darknet\n",
        "Para entrenar un detector de objetos basados en Yolo usaremos el framework [Darknet](https://github.com/pjreddie/darknet).\n",
        "\n",
        "Después de descargarlo editamos el Makefile y cambiamos las primeras líneas: GPU = 1,CUDNN=1 y OPENCV=1. Con esto activamos el uso de la GPU, del módulo Deep Neural Network de cuda y el uso de opencv.\n",
        "\n",
        "Además nos bajamos los pesos para Yolov3 preentrenados en ImageNet:\n",
        "[darknet53.conv.74](https://pjreddie.com/media/files/darknet53.conv.74).\n",
        "### Configuración de la Red\n",
        "Crear una copia del archivo **darknet/cfg/yolov3.cfg** en **darknet/cfg/yolov3_custom.cfg**.\n",
        "Modificar lo siguiente:\n",
        "```\n",
        "# línea 8 & 9: \n",
        "width = 416, height = 416\n",
        "\n",
        "# línea 20 \n",
        "max_batches = 6000 \n",
        "\n",
        "# línea 22 \n",
        "steps = 5400 \n",
        "\n",
        "# línea 603, 689, 776 (convolucional anterior a capa yolo): \n",
        "filters = 18\n",
        "\n",
        "# línea 610, 696, 783 (todas las apariciones): \n",
        "classes = 1\n",
        "```\n",
        "Para probar el entorno inicial se puede poner **max_batches = 10**. Esto hace que se ejecute 10 iteraciones y guarde el modelo.\n",
        "\n",
        "En caso de que querramos detectar entre más de un objeto, hay que setear el número de **classes** y setear los filtros con la siguiente fórmula: **filters = (classes + 5)*3**.\n",
        "### Configuración del dataset\n",
        "Para entrenar el modelo necesitamos un conjunto de entrenamiento y un conjunto de validación.\n",
        "Para esto copiamos todas las imágenes en la carpeta **darknet/data/images/**.\n",
        "\n",
        "Y luego creamos dos archivos, **darknet/data/train.txt** y **darknet/data/val.txt**. Para esto podemos usar el archivo que genera Yolo_mark.\n",
        "\n",
        "En estos archivos pondremos los paths relativos a las imágenes de entrenamiento y de validación. La cantidad de imágenes de entrenamiento debe ser de aproximadamente el 90%.\n",
        "\n",
        "Ejemplo de archivo *train.txt*:\n",
        "```\n",
        "data/images/000001.png\n",
        "data/images/000002.png\n",
        "...\n",
        "data/images/000090.png\n",
        "```\n",
        "Ejemplo de archivo *val.txt*:\n",
        "```\n",
        "data/images/000091.png\n",
        "data/images/000002.png\n",
        "...\n",
        "data/images/000100.png\n",
        "```\n",
        "\n",
        "Las anotaciones **00XXXX.txt** deben guardarse en un directorio **darknet/data/labels/**.\n",
        "\n",
        "Crear un archivo **darknet/data/yolo.names** que contenga el nombre del o los objetos a detectar uno en cada línea. El primer nombre de objeto se corresponde con el de `<object-id>` 0 del etiquetado, el segundo con el de `<object-id>` 1, y así sucesivamente.\n",
        "\n",
        "Por último creamos el archivo **darknet/data/yolo.data** que contendrá lo siguiente:\n",
        "\n",
        "```\n",
        "classes= 1 # número de objetos\n",
        "train  = data/train.txt\n",
        "valid  = data/val.txt\n",
        "names = data/yolo.names\n",
        "backup = backup\n",
        "```\n",
        "En backup se guardarán los modelos entrenados. En caso de que hayamos usado otros nombres para los archivos de configuración anteriores, adaptarlos en **yolo.data**.\n",
        "\n",
        "Por último comprimir la carpeta **darknet** y subirla a drive."
      ]
    },
    {
      "cell_type": "markdown",
      "metadata": {
        "id": "mfdhvskizaj1"
      },
      "source": [
        "## Repaso de los pasos\n",
        " 1. Construir dataset.\n",
        " 1. Descargar darknet.\n",
        " 1. Modificar el Makefile.\n",
        " 1. Copiar yolov3.cfg y adaptarla a nuestro problema.\n",
        " 1. Copiar las imágenes en **darknet/data/images**.\n",
        " 1. Copiar las etiquetas en **darknet/data/labels**.\n",
        " 1. Crear los archivos **train.txt** y **val.txt**.\n",
        " 1. Crear **yolo.names**.\n",
        " 1. Crear **yolo.data**.\n",
        " 1. Comprimir **darknet** y subirla a drive."
      ]
    },
    {
      "cell_type": "markdown",
      "metadata": {
        "id": "cyq0GQdL2bF-"
      },
      "source": [
        "## Entrenamiento en colab\n",
        " * Montamos el drive en colab"
      ]
    },
    {
      "cell_type": "code",
      "metadata": {
        "id": "pfZginAPeSzL"
      },
      "source": [
        "from google.colab import drive\n",
        "drive.mount('/content/drive', force_remount=True)"
      ],
      "execution_count": null,
      "outputs": []
    },
    {
      "cell_type": "markdown",
      "metadata": {
        "id": "E43X1DWH2kzJ"
      },
      "source": [
        " * Chequeamos que esté instalado el compilador de *cuda*"
      ]
    },
    {
      "cell_type": "code",
      "metadata": {
        "id": "ivxZS4mL57-H"
      },
      "source": [
        "!nvcc --version"
      ],
      "execution_count": null,
      "outputs": []
    },
    {
      "cell_type": "markdown",
      "metadata": {
        "id": "ZfKohte8DZPn"
      },
      "source": [
        " * Descomprimimos el dataset\n",
        "\n"
      ]
    },
    {
      "cell_type": "code",
      "metadata": {
        "id": "po0EvnvGnWoV"
      },
      "source": [
        "!unzip \"/content/drive/My Drive/colab/darknet.zip\""
      ],
      "execution_count": null,
      "outputs": []
    },
    {
      "cell_type": "markdown",
      "metadata": {
        "id": "4_56sw3x25xG"
      },
      "source": [
        " * Compilamos darknet, lo hacemos ejecutable."
      ]
    },
    {
      "cell_type": "code",
      "metadata": {
        "id": "fBQgzSpY7Vkh"
      },
      "source": [
        "%cd /content/darknet\n",
        "!make clean\n",
        "!make\n",
        "!chmod +x ./darknet"
      ],
      "execution_count": null,
      "outputs": []
    },
    {
      "cell_type": "markdown",
      "metadata": {
        "id": "GHm2cca63AYs"
      },
      "source": [
        " * Creamos un enlace simbólico entre colab y nuestro drive para guardar los modelos intermedios. Esto supone que existe una carpeta **colab/backup** en nuestro drive."
      ]
    },
    {
      "cell_type": "code",
      "metadata": {
        "id": "lBKVTRLGwSwO"
      },
      "source": [
        "!rm /content/darknet/backup -r\n",
        "!ln -s /content/drive/'My Drive'/colab/backup /content/darknet\n"
      ],
      "execution_count": null,
      "outputs": []
    },
    {
      "cell_type": "markdown",
      "metadata": {
        "id": "2CRk9a9T3NpC"
      },
      "source": [
        " * Si usamos windows para generar los archivos de configuración, instalamos una utilidad para linuxearlos y se la aplicamos a los archivos. Si usan linux para generar los archivos, háganlo igual porque hace alguna magia."
      ]
    },
    {
      "cell_type": "code",
      "metadata": {
        "id": "RWoV85PswxSW"
      },
      "source": [
        "!sudo apt install dos2unix"
      ],
      "execution_count": null,
      "outputs": []
    },
    {
      "cell_type": "code",
      "metadata": {
        "id": "GwQpFzsJ97_i"
      },
      "source": [
        "!dos2unix ./data/train.txt\n",
        "!dos2unix ./data/val.txt\n",
        "!dos2unix ./data/yolo.data\n",
        "!dos2unix ./data/yolo.names\n",
        "!dos2unix ./cfg/yolov3_custom.cfg"
      ],
      "execution_count": null,
      "outputs": []
    },
    {
      "cell_type": "markdown",
      "metadata": {
        "id": "1lnGnfiHKel7"
      },
      "source": [
        "Si vemos algún error en la conversión, puede ser porque la pifiamos en la ubicación de los archivos. Revisarlo.\n"
      ]
    },
    {
      "cell_type": "markdown",
      "metadata": {
        "id": "AvyWIqna3ayH"
      },
      "source": [
        " * Entrenamos nuestro propio modelo. Esto puede tardar aproximadamente un día."
      ]
    },
    {
      "cell_type": "code",
      "metadata": {
        "id": "xOOVkda0-KFo"
      },
      "source": [
        "%cd /content/darknet\n",
        "!./darknet detector train data/yolo.data cfg/yolov3_custom_train.cfg\n",
        "#!./darknet detector train data/yolo.data cfg/yolov3_custom_train.cfg \"/content/drive/My Drive/colab/backup/yolov3_custom_train_4000.weights\""
      ],
      "execution_count": null,
      "outputs": []
    },
    {
      "cell_type": "markdown",
      "metadata": {
        "id": "4dcTOaXN_QPG"
      },
      "source": [
        "## Probamos el modelo\n",
        "1. Buscar 2 imágenes nuevas.\n",
        "1. Mostrarlas en pantalla (matplotlib). \n",
        "1. Detectar objetos con nuestro modelo.\n",
        "1. Mostrar el resultado de la detección.\n",
        "\n",
        "Para este práctico pueden descargar el modelo y probarlo en sus PC.\n",
        "\n",
        "Completar la siguiente celda con el código para realizar lo anterior."
      ]
    },
    {
      "cell_type": "code",
      "metadata": {
        "id": "ezDSyrU5F-fn"
      },
      "source": [
        "# Completar con el código para probar el modelo"
      ],
      "execution_count": null,
      "outputs": []
    }
  ]
}